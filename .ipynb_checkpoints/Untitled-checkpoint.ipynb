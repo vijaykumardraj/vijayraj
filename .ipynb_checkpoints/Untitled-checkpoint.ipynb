{
 "cells": [
  {
   "cell_type": "code",
   "execution_count": null,
   "id": "401b7a98",
   "metadata": {},
   "outputs": [],
   "source": []
  },
  {
   "cell_type": "code",
   "execution_count": 15,
   "id": "e913cba1",
   "metadata": {},
   "outputs": [
    {
     "name": "stdout",
     "output_type": "stream",
     "text": [
      "['Sheet1']\n",
      "         VMName  TotalDisk(M)\n",
      "0        PYTAPP      143588.0\n",
      "1     PYTDCVM01           0.0\n",
      "2       PYTX1BO      426572.0\n",
      "3       PYTX1BW      816665.0\n",
      "4      PYTX3SBX      695417.0\n",
      "5     PYTO36501      104644.0\n",
      "6      PYTSPTKT      257993.0\n",
      "7      PYTX1ADS      466751.0\n",
      "8       PYTX1EP      509040.0\n",
      "9        PYTFSS     1077248.0\n",
      "10     PYTMG7-3      102400.0\n",
      "11     PYTPRISM      172716.0\n",
      "12      PYTX1GW      659997.0\n",
      "13     PYTX1SOL      615192.0\n",
      "14      PYTVMR2      289768.0\n",
      "15      PYTX2BW      792669.0\n",
      "16      PYTX2PI      593372.0\n",
      "17      PYTX3BW      614076.0\n",
      "18     PYTX3SRM      593340.0\n",
      "19     PYTFAZ01      514050.0\n",
      "20      PYTX1PI      895203.0\n",
      "21     PYTX1SRM      798566.0\n",
      "22       PYTDB1      663373.0\n",
      "23       PYTGSM      512000.0\n",
      "24     PYTMEPMP      198696.0\n",
      "25      PYTX2EP      413180.0\n",
      "26     PYTX2ERP      902813.0\n",
      "27      PYTX3B0      342120.0\n",
      "28      PYTX3GW      459288.0\n",
      "29      PYTX3SR      636628.0\n",
      "30       PYTFTP      906287.0\n",
      "31     PYTX1ERP     1111087.0\n",
      "32      PYTX1SR      574333.0\n",
      "33     PYTX2SRM      615804.0\n",
      "34       PYTDC7      108356.0\n",
      "35       PYTpbx      515717.0\n",
      "36       PYTDB5      926414.0\n",
      "37     PYTMESDP      125380.0\n",
      "38     PYTSOH01      160552.0\n",
      "39      PYTX2GW      505304.0\n",
      "40      PYTX3EP      413244.0\n",
      "41     PYTX3ERP      819421.0\n",
      "42      PYTX3PI      589020.0\n",
      "43       PYTMG3      289589.0\n",
      "44       PYTMG5      130048.0\n",
      "45  PYTTESTDV01      238920.0\n",
      "46     PTTACC01      153600.0\n",
      "47          NaN           NaN\n"
     ]
    }
   ],
   "source": [
    "#!/usr/bin/python\n",
    "import pandas as pd\n",
    "import matplotlib.pyplot as plt\n",
    "import matplotlib.pyplot as myplot\n",
    "import sys\n",
    "import random\n",
    "import time\n",
    "import tkinter as tk\n",
    "\n",
    "\n",
    "file = 'file1.xlsx'\n",
    "x1 = pd.ExcelFile(file)\n",
    "print(x1.sheet_names)\n",
    "df1 = x1.parse('Sheet1')\n",
    "data = pd.read_excel(\"file1.xlsx\")\n",
    "df = pd.DataFrame(data, columns=['VMName', 'TotalDisk(M)'] )\n",
    "print (df)\n",
    "#df.to_excel('file1_test.xlsx')\n",
    "data.to_csv('file1.csv')\n"
   ]
  },
  {
   "cell_type": "code",
   "execution_count": null,
   "id": "93d6dd31",
   "metadata": {},
   "outputs": [],
   "source": []
  }
 ],
 "metadata": {
  "kernelspec": {
   "display_name": "Python 3 (ipykernel)",
   "language": "python",
   "name": "python3"
  },
  "language_info": {
   "codemirror_mode": {
    "name": "ipython",
    "version": 3
   },
   "file_extension": ".py",
   "mimetype": "text/x-python",
   "name": "python",
   "nbconvert_exporter": "python",
   "pygments_lexer": "ipython3",
   "version": "3.9.6"
  }
 },
 "nbformat": 4,
 "nbformat_minor": 5
}
